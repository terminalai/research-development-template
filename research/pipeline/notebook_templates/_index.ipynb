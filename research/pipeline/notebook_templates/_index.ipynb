{
 "cells": [
  {
   "cell_type": "code",
   "execution_count": null,
   "metadata": {},
   "outputs": [],
   "source": [
    "%load_ext lab_black\n",
    "# nb_black if running in jupyter"
   ]
  },
  {
   "cell_type": "code",
   "execution_count": null,
   "metadata": {},
   "outputs": [],
   "source": [
    "# hide\n",
    "# from your_lib.core import *\n",
    "# from ml-project-template.data import *"
   ]
  },
  {
   "cell_type": "markdown",
   "metadata": {},
   "source": [
    "# Your project name\n",
    "\n",
    "> One-sentence description of your project."
   ]
  },
  {
   "cell_type": "markdown",
   "metadata": {},
   "source": [
    "## About\n",
    "\n",
    "Describe your project in a general level. What problem does it solve?"
   ]
  },
  {
   "cell_type": "markdown",
   "metadata": {},
   "source": [
    "## Contents\n",
    "\n",
    "Briefly describe the contents of your repository"
   ]
  },
  {
   "cell_type": "markdown",
   "metadata": {},
   "source": [
    "## How to Install\n",
    "\n",
    "Describe how to install your code. Be very through and include every single step of the process."
   ]
  },
  {
   "cell_type": "markdown",
   "metadata": {},
   "source": [
    "## How to Use / API\n",
    "\n",
    "Describe how to use your code. Give code examples."
   ]
  },
  {
   "cell_type": "markdown",
   "metadata": {},
   "source": [
    "## Update Plan\r\n",
    "\r\n",
    "How is your model and data kept up to date?"
   ]
  },
  {
   "cell_type": "markdown",
   "metadata": {},
   "source": [
    "## Ethical Aspects\r\n",
    "\r\n",
    "Can you recognize ethical issues with your ML project?\r\n",
    "\r\n",
    "Is there a risk for bias, discrimination, violation of privacy or conflict with the local or global laws?\r\n",
    "\r\n",
    "Could your results or algorithms be misused for malicious acts?\r\n",
    "\r\n",
    "Can data or model updates include bias in your model? \r\n",
    "\r\n",
    "How have you tackled these issues in your implementation?"
   ]
  },
  {
   "cell_type": "markdown",
   "metadata": {},
   "source": [
    "## Contributing\n",
    "\n",
    "> NOTE: Edit the hyperlink below to point to the CONTRIBUTING.md file of your repository\n",
    "\n",
    "See [here](https://github.com/City-of-Helsinki/ml_project_template/blob/master/CONTRIBUTING.md) on how to contribute to this project.\n"
   ]
  },
  {
   "cell_type": "markdown",
   "metadata": {},
   "source": [
    "## How to Cite this Work (optional)\n",
    "\n",
    "If you are doing a research project, you can add bibtex and other citation templates here.\n",
    "You can also get a doi for your code by adding it to a code archive,\n",
    "so your code can be cited directly!\n",
    "\n",
    "To cite this work, use:\n",
    "\n",
    "    @misc{authoryearfirstwordinheader,\n",
    "    title = ...\n",
    "    ...\n",
    "    }"
   ]
  },
  {
   "cell_type": "markdown",
   "metadata": {},
   "source": [
    "## Copyright\n",
    "\n",
    "> NOTE: Edit the year and author below according to your project!\n",
    "\n",
    "Copyright 2021 City-of-Helsinki. Licensed under the Apache License, Version 2.0 (the \"License\");\n",
    "you may not use this project's files except in compliance with the License.\n",
    "A copy of the License is provided in the LICENSE file in this repository.\n",
    "\n",
    "> NOTE: If you are using this template for other than city of Helsinki projects, remove the Helsinki logo files `favicon.ico` and `company_logo.png` from `docs/assets/images/`.\n",
    "\n",
    "    # to remove remove helsinki logo and favicon:\n",
    "    git rm docs/assets/images/favicon.ico docs/assets/images/company_logo.png\n",
    "    git commit -m \"removed Helsinki logo and favicon\"\n",
    "\n",
    "The Helsinki logo is a registered trademark, and may only be used by the city of Helsinki.\n",
    "\n",
    "This project was built using [nbdev](https://nbdev.fast.ai/) on top of the city of Helsinki [ml_project_template](https://github.com/City-of-Helsinki/ml_project_template)."
   ]
  }
 ],
 "metadata": {
  "kernelspec": {
   "display_name": "Python 3.8 (templateenv)",
   "language": "python",
   "name": "templateenv_py3.8.1"
  }
 },
 "nbformat": 4,
 "nbformat_minor": 4
}
